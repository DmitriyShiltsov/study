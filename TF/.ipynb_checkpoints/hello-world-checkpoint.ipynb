{
 "cells": [
  {
   "cell_type": "code",
   "execution_count": 23,
   "metadata": {},
   "outputs": [],
   "source": [
    "import tensorflow as tf\n",
    "import keras\n",
    "import numpy as np\n",
    "\n",
    "import matplotlib.pyplot as plt\n",
    "%matplotlib inline"
   ]
  },
  {
   "cell_type": "code",
   "execution_count": 24,
   "metadata": {},
   "outputs": [],
   "source": [
    "model = keras.Sequential([keras.layers.Dense(units=1, input_shape=[1])])\n",
    "model.compile(optimizer='sgd', loss='mean_squared_error')\n",
    "x = np.array([-1,0,1,2,3,4], dtype=float)\n",
    "y = np.array([-3,-1,1,3,5,7], dtype=float)"
   ]
  },
  {
   "cell_type": "code",
   "execution_count": 25,
   "metadata": {},
   "outputs": [
    {
     "name": "stdout",
     "output_type": "stream",
     "text": [
      "Epoch 1/50\n",
      "6/6 [==============================] - 1s 107ms/step - loss: 25.9681\n",
      "Epoch 2/50\n",
      "6/6 [==============================] - 0s 1ms/step - loss: 20.7252\n",
      "Epoch 3/50\n",
      "6/6 [==============================] - 0s 3ms/step - loss: 16.5943\n",
      "Epoch 4/50\n",
      "6/6 [==============================] - 0s 3ms/step - loss: 13.3384\n",
      "Epoch 5/50\n",
      "6/6 [==============================] - 0s 3ms/step - loss: 10.7710\n",
      "Epoch 6/50\n",
      "6/6 [==============================] - 0s 2ms/step - loss: 8.7455\n",
      "Epoch 7/50\n",
      "6/6 [==============================] - 0s 644us/step - loss: 7.1462\n",
      "Epoch 8/50\n",
      "6/6 [==============================] - 0s 551us/step - loss: 5.8826\n",
      "Epoch 9/50\n",
      "6/6 [==============================] - 0s 604us/step - loss: 4.8831\n",
      "Epoch 10/50\n",
      "6/6 [==============================] - 0s 754us/step - loss: 4.0915\n",
      "Epoch 11/50\n",
      "6/6 [==============================] - 0s 2ms/step - loss: 3.4635\n",
      "Epoch 12/50\n",
      "6/6 [==============================] - 0s 649us/step - loss: 2.9645\n",
      "Epoch 13/50\n",
      "6/6 [==============================] - 0s 348us/step - loss: 2.5669\n",
      "Epoch 14/50\n",
      "6/6 [==============================] - 0s 906us/step - loss: 2.2494\n",
      "Epoch 15/50\n",
      "6/6 [==============================] - 0s 334us/step - loss: 1.9948\n",
      "Epoch 16/50\n",
      "6/6 [==============================] - 0s 444us/step - loss: 1.7898\n",
      "Epoch 17/50\n",
      "6/6 [==============================] - 0s 935us/step - loss: 1.6241\n",
      "Epoch 18/50\n",
      "6/6 [==============================] - 0s 415us/step - loss: 1.4893\n",
      "Epoch 19/50\n",
      "6/6 [==============================] - 0s 2ms/step - loss: 1.3788\n",
      "Epoch 20/50\n",
      "6/6 [==============================] - 0s 355us/step - loss: 1.2877\n",
      "Epoch 21/50\n",
      "6/6 [==============================] - 0s 2ms/step - loss: 1.2118\n",
      "Epoch 22/50\n",
      "6/6 [==============================] - 0s 1ms/step - loss: 1.1481\n",
      "Epoch 23/50\n",
      "6/6 [==============================] - 0s 983us/step - loss: 1.0939\n",
      "Epoch 24/50\n",
      "6/6 [==============================] - 0s 3ms/step - loss: 1.0474\n",
      "Epoch 25/50\n",
      "6/6 [==============================] - 0s 982us/step - loss: 1.0069\n",
      "Epoch 26/50\n",
      "6/6 [==============================] - 0s 996us/step - loss: 0.9713\n",
      "Epoch 27/50\n",
      "6/6 [==============================] - 0s 3ms/step - loss: 0.9397\n",
      "Epoch 28/50\n",
      "6/6 [==============================] - 0s 1ms/step - loss: 0.9111\n",
      "Epoch 29/50\n",
      "6/6 [==============================] - 0s 2ms/step - loss: 0.8852\n",
      "Epoch 30/50\n",
      "6/6 [==============================] - 0s 2ms/step - loss: 0.8613\n",
      "Epoch 31/50\n",
      "6/6 [==============================] - 0s 1ms/step - loss: 0.8391\n",
      "Epoch 32/50\n",
      "6/6 [==============================] - 0s 2ms/step - loss: 0.8183\n",
      "Epoch 33/50\n",
      "6/6 [==============================] - 0s 1ms/step - loss: 0.7987\n",
      "Epoch 34/50\n",
      "6/6 [==============================] - 0s 909us/step - loss: 0.7801\n",
      "Epoch 35/50\n",
      "6/6 [==============================] - 0s 988us/step - loss: 0.7624\n",
      "Epoch 36/50\n",
      "6/6 [==============================] - 0s 922us/step - loss: 0.7454\n",
      "Epoch 37/50\n",
      "6/6 [==============================] - 0s 1ms/step - loss: 0.7290\n",
      "Epoch 38/50\n",
      "6/6 [==============================] - 0s 3ms/step - loss: 0.7132\n",
      "Epoch 39/50\n",
      "6/6 [==============================] - 0s 1ms/step - loss: 0.6979\n",
      "Epoch 40/50\n",
      "6/6 [==============================] - 0s 510us/step - loss: 0.6830\n",
      "Epoch 41/50\n",
      "6/6 [==============================] - 0s 1ms/step - loss: 0.6686\n",
      "Epoch 42/50\n",
      "6/6 [==============================] - 0s 2ms/step - loss: 0.6545\n",
      "Epoch 43/50\n",
      "6/6 [==============================] - 0s 966us/step - loss: 0.6408\n",
      "Epoch 44/50\n",
      "6/6 [==============================] - 0s 2ms/step - loss: 0.6275\n",
      "Epoch 45/50\n",
      "6/6 [==============================] - 0s 658us/step - loss: 0.6144\n",
      "Epoch 46/50\n",
      "6/6 [==============================] - 0s 947us/step - loss: 0.6017\n",
      "Epoch 47/50\n",
      "6/6 [==============================] - 0s 1ms/step - loss: 0.5892\n",
      "Epoch 48/50\n",
      "6/6 [==============================] - 0s 1ms/step - loss: 0.5771\n",
      "Epoch 49/50\n",
      "6/6 [==============================] - 0s 1ms/step - loss: 0.5651\n",
      "Epoch 50/50\n",
      "6/6 [==============================] - 0s 2ms/step - loss: 0.5535\n"
     ]
    },
    {
     "data": {
      "text/plain": [
       "<keras.callbacks.callbacks.History at 0x7f16e374d050>"
      ]
     },
     "execution_count": 25,
     "metadata": {},
     "output_type": "execute_result"
    }
   ],
   "source": [
    "model.fit(x, y, epochs=50)"
   ]
  },
  {
   "cell_type": "code",
   "execution_count": 26,
   "metadata": {},
   "outputs": [],
   "source": [
    "yp = model.predict(np.arange(-10,10,0.1))"
   ]
  },
  {
   "cell_type": "code",
   "execution_count": 27,
   "metadata": {},
   "outputs": [
    {
     "data": {
      "text/plain": [
       "<matplotlib.collections.PathCollection at 0x7f16e34ea510>"
      ]
     },
     "execution_count": 27,
     "metadata": {},
     "output_type": "execute_result"
    },
    {
     "data": {
      "image/png": "[encoded data removed]",
      "text/plain": [
       "<Figure size 864x864 with 1 Axes>"
      ]
     },
     "metadata": {
      "needs_background": "light"
     },
     "output_type": "display_data"
    }
   ],
   "source": [
    "plt.figure(figsize=(12,12))\n",
    "plt.plot(np.arange(-10,10,0.1), yp)\n",
    "plt.scatter(x, y)"
   ]
  },
  {
   "cell_type": "code",
   "execution_count": null,
   "metadata": {},
   "outputs": [],
   "source": []
  }
 ],
 "metadata": {
  "kernelspec": {
   "display_name": "Python 3",
   "language": "python",
   "name": "python3"
  },
  "language_info": {
   "codemirror_mode": {
    "name": "ipython",
    "version": 3
   },
   "file_extension": ".py",
   "mimetype": "text/x-python",
   "name": "python",
   "nbconvert_exporter": "python",
   "pygments_lexer": "ipython3",
   "version": "3.7.6"
  }
 },
 "nbformat": 4,
 "nbformat_minor": 2
}
